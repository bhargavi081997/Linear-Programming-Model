{
 "cells": [
  {
   "cell_type": "markdown",
   "id": "a4047ab9-a400-4610-a1c1-ec25d758b66f",
   "metadata": {},
   "source": [
    "# Assignment 1"
   ]
  },
  {
   "cell_type": "markdown",
   "id": "7c74e774-d296-48c3-a3ea-c8e42b0d5d1a",
   "metadata": {},
   "source": [
    "Our decision variable:\n",
    "\n",
    "$ x_{ijk}$ = Allocation of department i is assigned to a room type j on day k \n",
    "\n",
    "$ t_{i}$ = Target hours for department i \n",
    "\n",
    "$ d_{jk}$ = Duration of operation block for room j on day k\n",
    "\n",
    "$ o_{i}$ = Overallocation of department i \n",
    "\n",
    "$ u_{i}$ = Undersallocation of department i subject to:"
   ]
  },
  {
   "cell_type": "code",
   "execution_count": 1,
   "id": "99384f8c",
   "metadata": {},
   "outputs": [],
   "source": [
    "# Import gurobi and numpy\n",
    "from gurobipy import *\n",
    "import numpy as np"
   ]
  },
  {
   "cell_type": "code",
   "execution_count": 2,
   "id": "9ae5e8de",
   "metadata": {},
   "outputs": [
    {
     "name": "stdout",
     "output_type": "stream",
     "text": [
      "Restricted license - for non-production use only - expires 2023-10-25\n"
     ]
    }
   ],
   "source": [
    "mod = Model()\n",
    "dept = [1, 2, 3, 4, 5, 6]\n",
    "OR = [1, 2, 3, 4, 5]\n",
    "days = [1, 2, 3, 4, 5]\n",
    "floors = [1, 2, 3]"
   ]
  },
  {
   "cell_type": "code",
   "execution_count": 3,
   "id": "639f0d69",
   "metadata": {},
   "outputs": [],
   "source": [
    "#defining X variables \n",
    "X = {}\n",
    "for i in dept:\n",
    "    for j in OR: \n",
    "        for k in days: \n",
    "            X[i,j,k] = mod.addVar(vtype = GRB.BINARY, name = \"x_%d_%d_%d\"% (i,j,k))"
   ]
  },
  {
   "cell_type": "code",
   "execution_count": 4,
   "id": "6416c36f",
   "metadata": {},
   "outputs": [
    {
     "data": {
      "text/plain": [
       "{(1, 1): 9,\n",
       " (1, 2): 9,\n",
       " (1, 3): 9,\n",
       " (1, 4): 9,\n",
       " (1, 5): 9,\n",
       " (2, 1): 9,\n",
       " (2, 2): 9,\n",
       " (2, 3): 9,\n",
       " (2, 4): 9,\n",
       " (2, 5): 8,\n",
       " (3, 1): 9,\n",
       " (3, 2): 9,\n",
       " (3, 3): 9,\n",
       " (3, 4): 9,\n",
       " (3, 5): 8,\n",
       " (4, 1): 9,\n",
       " (4, 2): 9,\n",
       " (4, 3): 9,\n",
       " (4, 4): 9,\n",
       " (4, 5): 8,\n",
       " (5, 1): 7.5,\n",
       " (5, 2): 7.5,\n",
       " (5, 3): 7.5,\n",
       " (5, 4): 7.5,\n",
       " (5, 5): 6.5}"
      ]
     },
     "execution_count": 4,
     "metadata": {},
     "output_type": "execute_result"
    }
   ],
   "source": [
    "#defining duration variables\n",
    "d = {}\n",
    "for j in OR: \n",
    "    for k in days: \n",
    "        if j == 1: \n",
    "            d[j,k] = 9\n",
    "        elif j in [2,3,4] and k in [1,2,3,4] :\n",
    "            d[j,k] = 9\n",
    "        elif j in [2,3,4] and k == 5:\n",
    "            d[j,k] = 8\n",
    "        elif j == 5 and k in [1,2,3,4]:\n",
    "            d[j,k] = 7.5\n",
    "        elif j == 5 and k == 5:\n",
    "            d[j,k] = 6.5\n",
    "d"
   ]
  },
  {
   "cell_type": "code",
   "execution_count": 5,
   "id": "3198273c",
   "metadata": {},
   "outputs": [
    {
     "data": {
      "text/plain": [
       "{1: 103.33, 2: 8.97, 3: 54.02, 4: 15.8, 5: 11.32, 6: 20.28}"
      ]
     },
     "execution_count": 5,
     "metadata": {},
     "output_type": "execute_result"
    }
   ],
   "source": [
    "#defining target allocation variable \n",
    "Target_allocation = [48.4, 4.2, 25.3, 7.4, 5.3, 9.5]\n",
    "total_hrs = 213.5\n",
    "t = {}\n",
    "for a in range(len(Target_allocation)):\n",
    "    t[a+1] = round(Target_allocation[a] * total_hrs / 100, 2)\n",
    "t"
   ]
  },
  {
   "cell_type": "code",
   "execution_count": 6,
   "id": "01d623c6-8d51-4d34-842b-04a257f7cc71",
   "metadata": {},
   "outputs": [],
   "source": [
    "F={}\n",
    "for i in dept:\n",
    "    for k in days:\n",
    "        for l in floors:\n",
    "            F[i,k,l] = mod.addVar(vtype = GRB.BINARY, name = \"f_%d_%d_%d\"% (i,k,l))"
   ]
  },
  {
   "cell_type": "code",
   "execution_count": 7,
   "id": "3be9e40a",
   "metadata": {},
   "outputs": [],
   "source": [
    "u = {}\n",
    "for i in dept:\n",
    "    u[i] = mod.addVar(vtype = GRB.CONTINUOUS, name = \"y_%d\"% (i))"
   ]
  },
  {
   "cell_type": "code",
   "execution_count": 8,
   "id": "685f1bbe-6432-4844-9bd6-5cc4ef7f6f5b",
   "metadata": {},
   "outputs": [],
   "source": [
    "o = {}\n",
    "for i in dept:\n",
    "    o[i] = mod.addVar(vtype = GRB.CONTINUOUS, name = \"y_%d\"% (i))"
   ]
  },
  {
   "cell_type": "markdown",
   "id": "a022ca24-0b06-44b1-be12-8a533262c7c4",
   "metadata": {},
   "source": [
    "## Model Constraints"
   ]
  },
  {
   "cell_type": "markdown",
   "id": "26d390b4-1186-4ca3-9770-3467de00f800",
   "metadata": {},
   "source": [
    "### Objective Function\n",
    "Minimize $\\sum_{u,t=1}^6 \\frac{u_{i}}{t_{i}} $"
   ]
  },
  {
   "cell_type": "markdown",
   "id": "d97dffd7-4bdf-4eb7-9e45-11038a35ad4d",
   "metadata": {},
   "source": [
    "### Constraints for Part A\n",
    "\n",
    "#### Balance Constraint\n",
    "$\\sum_{j=1}^5 \\sum_{k=1}^5 d_{jk} x_{ijk}+ u_{i} - o_{i} -t_{i} = 0 $\n",
    "\n",
    "#### Room Constraint\n",
    "$\\sum_{l=1}^6 x_{ijk} <=1 $ for all i,k\n",
    "\n",
    "#### Non-negativity Constraint\n",
    "$u_{i} >=0 $\n",
    "\n",
    "$o_{i}  >=0 $\n"
   ]
  },
  {
   "cell_type": "markdown",
   "id": "6e31f1df-bb7c-4573-8406-0097896467ad",
   "metadata": {},
   "source": [
    "### Additional Constraints of Part B\n",
    "\n",
    "#### Floor Constraint\n",
    "\n",
    "$\\sum_{l=1}^3 F_{ikl} <=1 $ for all i,k\n",
    "\n",
    "#### Floor/Room Combinations Constraint\n",
    "$x_{i1k} + x_{i2k} <= 2 * F_{ik1} $ for all i,k\n",
    "\n",
    "$x_{i3k} + x_{i4k} <= 2 * F_{ik2} $ for all i,k\n",
    "\n",
    "$x_{i,5,k} <= F_{ik3} $ for all i,k"
   ]
  },
  {
   "cell_type": "code",
   "execution_count": null,
   "id": "2784c7c4",
   "metadata": {},
   "outputs": [],
   "source": [
    "#Under allocation non negativity constraint"
   ]
  },
  {
   "cell_type": "code",
   "execution_count": null,
   "id": "eb91450a",
   "metadata": {},
   "outputs": [],
   "source": []
  },
  {
   "cell_type": "code",
   "execution_count": 9,
   "id": "2a11e310",
   "metadata": {},
   "outputs": [],
   "source": [
    "#Balance Constraint \n",
    "for i in dept: \n",
    "        mod.addConstr(sum((X[i,j,k]*d[j,k]) for j in OR for k in days)+u[i]-o[i]-t[i] == 0)           "
   ]
  },
  {
   "cell_type": "code",
   "execution_count": 10,
   "id": "a812dcad",
   "metadata": {},
   "outputs": [],
   "source": [
    "#Room Constraint \n",
    "for j in OR: \n",
    "    for k in days: \n",
    "        mod.addConstr(sum(X[i,j,k] for i in dept) <= 1)"
   ]
  },
  {
   "cell_type": "code",
   "execution_count": 11,
   "id": "202bcae2",
   "metadata": {},
   "outputs": [],
   "source": [
    "# Floor & Floor/ Room constraints\n",
    "for i in dept:\n",
    "    for k in days:\n",
    "        mod.addConstr(sum(F[i,k,l] for l in floors)<= 1)\n",
    "        mod.addConstr(X[i,1,k]+ X[i,2,k] <= 2*F[i,k,1])\n",
    "        mod.addConstr(X[i,3,k]+ X[i,4,k] <= 2*F[i,k,2])\n",
    "        mod.addConstr(X[i,5,k] <= 2*F[i,k,3])"
   ]
  },
  {
   "cell_type": "code",
   "execution_count": 12,
   "id": "46fd4a68",
   "metadata": {},
   "outputs": [],
   "source": [
    "#objective function\n",
    "mod.setObjective(sum(u[i]/t[i] for i in dept), GRB.MINIMIZE)           "
   ]
  },
  {
   "cell_type": "code",
   "execution_count": 13,
   "id": "d6d9e02c",
   "metadata": {},
   "outputs": [
    {
     "name": "stdout",
     "output_type": "stream",
     "text": [
      "Gurobi Optimizer version 9.5.0 build v9.5.0rc5 (win64)\n",
      "Thread count: 4 physical cores, 8 logical processors, using up to 8 threads\n",
      "Optimize a model with 151 rows, 252 columns and 642 nonzeros\n",
      "Model fingerprint: 0x9d2de466\n",
      "Variable types: 12 continuous, 240 integer (240 binary)\n",
      "Coefficient statistics:\n",
      "  Matrix range     [1e+00, 9e+00]\n",
      "  Objective range  [1e-02, 1e-01]\n",
      "  Bounds range     [1e+00, 1e+00]\n",
      "  RHS range        [1e+00, 1e+02]\n",
      "Found heuristic solution: objective 6.0000000\n",
      "Presolve removed 60 rows and 66 columns\n",
      "Presolve time: 0.00s\n",
      "Presolved: 91 rows, 186 columns, 516 nonzeros\n",
      "Variable types: 0 continuous, 186 integer (180 binary)\n",
      "Found heuristic solution: objective 5.9893361\n",
      "\n",
      "Root relaxation: objective 1.386819e-01, 120 iterations, 0.00 seconds (0.00 work units)\n",
      "\n",
      "    Nodes    |    Current Node    |     Objective Bounds      |     Work\n",
      " Expl Unexpl |  Obj  Depth IntInf | Incumbent    BestBd   Gap | It/Node Time\n",
      "\n",
      "     0     0    0.13868    0    5    5.98934    0.13868  97.7%     -    0s\n",
      "H    0     0                       0.2724309    0.13868  49.1%     -    0s\n",
      "H    0     0                       0.2349856    0.13868  41.0%     -    0s\n",
      "H    0     0                       0.2130988    0.13868  34.9%     -    0s\n",
      "H    0     0                       0.1580395    0.13868  12.2%     -    0s\n",
      "     0     0    0.13868    0    8    0.15804    0.13868  12.2%     -    0s\n",
      "H    0     0                       0.1576692    0.13868  12.0%     -    0s\n",
      "H    0     0                       0.1386819    0.13868  0.00%     -    0s\n",
      "     0     0    0.13868    0    6    0.13868    0.13868  0.00%     -    0s\n",
      "\n",
      "Cutting planes:\n",
      "  Cover: 4\n",
      "  StrongCG: 1\n",
      "  RLT: 1\n",
      "\n",
      "Explored 1 nodes (304 simplex iterations) in 0.05 seconds (0.00 work units)\n",
      "Thread count was 8 (of 8 available processors)\n",
      "\n",
      "Solution count 8: 0.138682 0.157669 0.158039 ... 6\n",
      "\n",
      "Optimal solution found (tolerance 1.00e-04)\n",
      "Best objective 1.386818929643e-01, best bound 1.386818929643e-01, gap 0.0000%\n"
     ]
    }
   ],
   "source": [
    "mod.update()\n",
    "mod.optimize()"
   ]
  },
  {
   "cell_type": "code",
   "execution_count": 14,
   "id": "9217aec2",
   "metadata": {},
   "outputs": [
    {
     "data": {
      "text/plain": [
       "0.13868189296428918"
      ]
     },
     "execution_count": 14,
     "metadata": {},
     "output_type": "execute_result"
    }
   ],
   "source": [
    "mod.objVal"
   ]
  },
  {
   "cell_type": "code",
   "execution_count": 16,
   "id": "fa962848",
   "metadata": {},
   "outputs": [
    {
     "name": "stdout",
     "output_type": "stream",
     "text": [
      "x_1_1_1 -0.0\n",
      "x_1_1_2 -0.0\n",
      "x_1_1_3 -0.0\n",
      "x_1_1_4 1.0\n",
      "x_1_1_5 1.0\n",
      "x_1_2_1 -0.0\n",
      "x_1_2_2 -0.0\n",
      "x_1_2_3 -0.0\n",
      "x_1_2_4 1.0\n",
      "x_1_2_5 1.0\n",
      "x_1_3_1 1.0\n",
      "x_1_3_2 1.0\n",
      "x_1_3_3 1.0\n",
      "x_1_3_4 -0.0\n",
      "x_1_3_5 -0.0\n",
      "x_1_4_1 1.0\n",
      "x_1_4_2 1.0\n",
      "x_1_4_3 1.0\n",
      "x_1_4_4 -0.0\n",
      "x_1_4_5 -0.0\n",
      "x_1_5_1 -0.0\n",
      "x_1_5_2 -0.0\n",
      "x_1_5_3 -0.0\n",
      "x_1_5_4 -0.0\n",
      "x_1_5_5 -0.0\n",
      "x_2_1_1 -0.0\n",
      "x_2_1_2 0.0\n",
      "x_2_1_3 0.0\n",
      "x_2_1_4 -0.0\n",
      "x_2_1_5 -0.0\n",
      "x_2_2_1 -0.0\n",
      "x_2_2_2 0.0\n",
      "x_2_2_3 -0.0\n",
      "x_2_2_4 -0.0\n",
      "x_2_2_5 -0.0\n",
      "x_2_3_1 -0.0\n",
      "x_2_3_2 -0.0\n",
      "x_2_3_3 -0.0\n",
      "x_2_3_4 0.0\n",
      "x_2_3_5 0.0\n",
      "x_2_4_1 0.0\n",
      "x_2_4_2 -0.0\n",
      "x_2_4_3 0.0\n",
      "x_2_4_4 1.0\n",
      "x_2_4_5 -0.0\n",
      "x_2_5_1 0.0\n",
      "x_2_5_2 -0.0\n",
      "x_2_5_3 -0.0\n",
      "x_2_5_4 -0.0\n",
      "x_2_5_5 0.0\n",
      "x_3_1_1 1.0\n",
      "x_3_1_2 -0.0\n",
      "x_3_1_3 -0.0\n",
      "x_3_1_4 -0.0\n",
      "x_3_1_5 -0.0\n",
      "x_3_2_1 1.0\n",
      "x_3_2_2 -0.0\n",
      "x_3_2_3 -0.0\n",
      "x_3_2_4 -0.0\n",
      "x_3_2_5 -0.0\n",
      "x_3_3_1 -0.0\n",
      "x_3_3_2 -0.0\n",
      "x_3_3_3 -0.0\n",
      "x_3_3_4 -0.0\n",
      "x_3_3_5 1.0\n",
      "x_3_4_1 -0.0\n",
      "x_3_4_2 -0.0\n",
      "x_3_4_3 -0.0\n",
      "x_3_4_4 -0.0\n",
      "x_3_4_5 1.0\n",
      "x_3_5_1 -0.0\n",
      "x_3_5_2 1.0\n",
      "x_3_5_3 1.0\n",
      "x_3_5_4 1.0\n",
      "x_3_5_5 0.0\n",
      "x_4_1_1 -0.0\n",
      "x_4_1_2 -0.0\n",
      "x_4_1_3 1.0\n",
      "x_4_1_4 -0.0\n",
      "x_4_1_5 -0.0\n",
      "x_4_2_1 -0.0\n",
      "x_4_2_2 -0.0\n",
      "x_4_2_3 -0.0\n",
      "x_4_2_4 -0.0\n",
      "x_4_2_5 -0.0\n",
      "x_4_3_1 -0.0\n",
      "x_4_3_2 -0.0\n",
      "x_4_3_3 -0.0\n",
      "x_4_3_4 1.0\n",
      "x_4_3_5 -0.0\n",
      "x_4_4_1 -0.0\n",
      "x_4_4_2 -0.0\n",
      "x_4_4_3 -0.0\n",
      "x_4_4_4 -0.0\n",
      "x_4_4_5 -0.0\n",
      "x_4_5_1 -0.0\n",
      "x_4_5_2 -0.0\n",
      "x_4_5_3 -0.0\n",
      "x_4_5_4 -0.0\n",
      "x_4_5_5 -0.0\n",
      "x_5_1_1 -0.0\n",
      "x_5_1_2 1.0\n",
      "x_5_1_3 -0.0\n",
      "x_5_1_4 -0.0\n",
      "x_5_1_5 -0.0\n",
      "x_5_2_1 -0.0\n",
      "x_5_2_2 1.0\n",
      "x_5_2_3 -0.0\n",
      "x_5_2_4 -0.0\n",
      "x_5_2_5 -0.0\n",
      "x_5_3_1 -0.0\n",
      "x_5_3_2 -0.0\n",
      "x_5_3_3 -0.0\n",
      "x_5_3_4 -0.0\n",
      "x_5_3_5 0.0\n",
      "x_5_4_1 -0.0\n",
      "x_5_4_2 -0.0\n",
      "x_5_4_3 -0.0\n",
      "x_5_4_4 -0.0\n",
      "x_5_4_5 -0.0\n",
      "x_5_5_1 -0.0\n",
      "x_5_5_2 -0.0\n",
      "x_5_5_3 -0.0\n",
      "x_5_5_4 -0.0\n",
      "x_5_5_5 -0.0\n",
      "x_6_1_1 -0.0\n",
      "x_6_1_2 -0.0\n",
      "x_6_1_3 -0.0\n",
      "x_6_1_4 -0.0\n",
      "x_6_1_5 -0.0\n",
      "x_6_2_1 -0.0\n",
      "x_6_2_2 -0.0\n",
      "x_6_2_3 1.0\n",
      "x_6_2_4 -0.0\n",
      "x_6_2_5 -0.0\n",
      "x_6_3_1 -0.0\n",
      "x_6_3_2 -0.0\n",
      "x_6_3_3 -0.0\n",
      "x_6_3_4 -0.0\n",
      "x_6_3_5 -0.0\n",
      "x_6_4_1 -0.0\n",
      "x_6_4_2 -0.0\n",
      "x_6_4_3 -0.0\n",
      "x_6_4_4 -0.0\n",
      "x_6_4_5 -0.0\n",
      "x_6_5_1 1.0\n",
      "x_6_5_2 -0.0\n",
      "x_6_5_3 -0.0\n",
      "x_6_5_4 -0.0\n",
      "x_6_5_5 1.0\n",
      "f_1_1_1 0.0\n",
      "f_1_1_2 1.0\n",
      "f_1_1_3 0.0\n",
      "f_1_2_1 0.0\n",
      "f_1_2_2 1.0\n",
      "f_1_2_3 0.0\n",
      "f_1_3_1 0.0\n",
      "f_1_3_2 1.0\n",
      "f_1_3_3 0.0\n",
      "f_1_4_1 1.0\n",
      "f_1_4_2 -0.0\n",
      "f_1_4_3 0.0\n",
      "f_1_5_1 1.0\n",
      "f_1_5_2 -0.0\n",
      "f_1_5_3 0.0\n",
      "f_2_1_1 1.0\n",
      "f_2_1_2 0.0\n",
      "f_2_1_3 0.0\n",
      "f_2_2_1 1.0\n",
      "f_2_2_2 -0.0\n",
      "f_2_2_3 0.0\n",
      "f_2_3_1 1.0\n",
      "f_2_3_2 0.0\n",
      "f_2_3_3 0.0\n",
      "f_2_4_1 0.0\n",
      "f_2_4_2 1.0\n",
      "f_2_4_3 0.0\n",
      "f_2_5_1 1.0\n",
      "f_2_5_2 0.0\n",
      "f_2_5_3 0.0\n",
      "f_3_1_1 1.0\n",
      "f_3_1_2 -0.0\n",
      "f_3_1_3 0.0\n",
      "f_3_2_1 0.0\n",
      "f_3_2_2 -0.0\n",
      "f_3_2_3 1.0\n",
      "f_3_3_1 0.0\n",
      "f_3_3_2 -0.0\n",
      "f_3_3_3 1.0\n",
      "f_3_4_1 0.0\n",
      "f_3_4_2 -0.0\n",
      "f_3_4_3 1.0\n",
      "f_3_5_1 0.0\n",
      "f_3_5_2 1.0\n",
      "f_3_5_3 0.0\n",
      "f_4_1_1 1.0\n",
      "f_4_1_2 -0.0\n",
      "f_4_1_3 0.0\n",
      "f_4_2_1 0.0\n",
      "f_4_2_2 1.0\n",
      "f_4_2_3 0.0\n",
      "f_4_3_1 1.0\n",
      "f_4_3_2 0.0\n",
      "f_4_3_3 0.0\n",
      "f_4_4_1 0.0\n",
      "f_4_4_2 1.0\n",
      "f_4_4_3 0.0\n",
      "f_4_5_1 1.0\n",
      "f_4_5_2 -0.0\n",
      "f_4_5_3 0.0\n",
      "f_5_1_1 0.0\n",
      "f_5_1_2 1.0\n",
      "f_5_1_3 0.0\n",
      "f_5_2_1 1.0\n",
      "f_5_2_2 -0.0\n",
      "f_5_2_3 0.0\n",
      "f_5_3_1 1.0\n",
      "f_5_3_2 -0.0\n",
      "f_5_3_3 0.0\n",
      "f_5_4_1 1.0\n",
      "f_5_4_2 0.0\n",
      "f_5_4_3 0.0\n",
      "f_5_5_1 0.0\n",
      "f_5_5_2 1.0\n",
      "f_5_5_3 0.0\n",
      "f_6_1_1 0.0\n",
      "f_6_1_2 0.0\n",
      "f_6_1_3 1.0\n",
      "f_6_2_1 1.0\n",
      "f_6_2_2 -0.0\n",
      "f_6_2_3 0.0\n",
      "f_6_3_1 1.0\n",
      "f_6_3_2 -0.0\n",
      "f_6_3_3 0.0\n",
      "f_6_4_1 0.0\n",
      "f_6_4_2 1.0\n",
      "f_6_4_3 0.0\n",
      "f_6_5_1 0.0\n",
      "f_6_5_2 -0.0\n",
      "f_6_5_3 1.0\n",
      "y_1 14.33\n",
      "y_2 0.0\n",
      "y_3 0.0\n",
      "y_4 0.0\n",
      "y_5 0.0\n",
      "y_6 0.0\n",
      "y_1 1.7763568394002505e-15\n",
      "y_2 0.02999999999999936\n",
      "y_3 2.479999999999997\n",
      "y_4 2.1999999999999993\n",
      "y_5 6.68\n",
      "y_6 2.719999999999999\n"
     ]
    }
   ],
   "source": [
    "import pandas as pd\n",
    "for v in mod.getVars():\n",
    "    print(v.varName, v.x)"
   ]
  },
  {
   "cell_type": "code",
   "execution_count": null,
   "id": "785ad28e",
   "metadata": {},
   "outputs": [],
   "source": [
    "OR = []\n",
    "days = []\n",
    "departments = []\n",
    "days_OR = []\n",
    "import pandas as pd\n",
    "for v in mod.getVars():\n",
    "    if v.x  == 1:\n",
    "        departments.append(str(v.varName)[2:3])\n",
    "        OR.append(str(v.varName)[4:5])\n",
    "        days.append(str(v.varName)[6:7])\n",
    "        days_OR.append([str(v.varName)[6:7], str(v.varName)[4:5]]) "
   ]
  },
  {
   "cell_type": "code",
   "execution_count": null,
   "id": "cdeb9522",
   "metadata": {},
   "outputs": [],
   "source": [
    "df = pd.DataFrame()\n",
    "allocation = pd.DataFrame()"
   ]
  },
  {
   "cell_type": "code",
   "execution_count": null,
   "id": "89f21a9e",
   "metadata": {},
   "outputs": [],
   "source": [
    "for i in range(1,6):\n",
    "    for j in range(1,6):\n",
    "        if([str(i), str(j)] in days_OR):\n",
    "            index = days_OR.index([str(i), str(j)])\n",
    "            df.loc[i,j] = departments[index]\n",
    "            allocation.loc[i,j] = 1 * d[j,i]\n",
    "        "
   ]
  },
  {
   "cell_type": "code",
   "execution_count": null,
   "id": "30f302c9",
   "metadata": {},
   "outputs": [],
   "source": [
    "Assigned_allocation = [0]*7\n",
    "for i in range(1,6):\n",
    "    for j in range(1,6):\n",
    "        #print(int(df.loc[i,j]), allocation.loc[i,j])\n",
    "        Assigned_allocation[int(df.loc[i,j])] += allocation.loc[i,j]/213.5\n",
    "        #print(temp)\n",
    "        \n",
    "Assigned_allocation = [round(num*100, 1) for num in Assigned_allocation]\n",
    "Assigned_allocation = Assigned_allocation[1:7]"
   ]
  },
  {
   "cell_type": "code",
   "execution_count": null,
   "id": "83b53397",
   "metadata": {},
   "outputs": [],
   "source": [
    "Assigned_allocation"
   ]
  },
  {
   "cell_type": "code",
   "execution_count": null,
   "id": "6aea1b8f",
   "metadata": {},
   "outputs": [],
   "source": [
    "Target_allocation"
   ]
  },
  {
   "cell_type": "code",
   "execution_count": null,
   "id": "2bd20d4c",
   "metadata": {},
   "outputs": [],
   "source": [
    "d = {'Target_allocation':Target_allocation,'Assigned_allocation':Assigned_allocation}\n",
    "Allocation = pd.DataFrame(d)\n",
    "Allocation = pd.DataFrame(d, columns=['Target_allocation','Assigned_allocation'])"
   ]
  },
  {
   "cell_type": "code",
   "execution_count": null,
   "id": "f747cf31",
   "metadata": {},
   "outputs": [],
   "source": [
    "Allocation['Difference'] = Allocation['Target_allocation'] - Allocation['Assigned_allocation']"
   ]
  },
  {
   "cell_type": "code",
   "execution_count": null,
   "id": "f13d7f2d",
   "metadata": {},
   "outputs": [],
   "source": [
    "df.columns =['Main 1', 'Main 2', 'Main 3', 'Main 4', 'Main 5']\n",
    "df.index =['Monday', 'Tuesday', 'Wednesday', 'Thursday', 'Friday']\n",
    "\n",
    "df = df.replace(to_replace =['1'], value =\"General Surgery\")\n",
    "df = df.replace(to_replace =['2'], value =\"Emergency\")\n",
    "df = df.replace(to_replace =['3'], value =\"Neurosurgery\")\n",
    "df = df.replace(to_replace =['4'], value =\"Opthamology\")\n",
    "df = df.replace(to_replace =['5'], value =\"Oral Surgery\")\n",
    "df = df.replace(to_replace =['6'], value =\"Otolaryngology\")"
   ]
  },
  {
   "cell_type": "code",
   "execution_count": null,
   "id": "40a8113d",
   "metadata": {},
   "outputs": [],
   "source": [
    "df"
   ]
  },
  {
   "cell_type": "code",
   "execution_count": null,
   "id": "fff2bccf",
   "metadata": {},
   "outputs": [],
   "source": [
    "Allocation"
   ]
  },
  {
   "cell_type": "code",
   "execution_count": null,
   "id": "41f09dd2",
   "metadata": {},
   "outputs": [],
   "source": [
    "Allocation['Difference'].abs().sum()"
   ]
  },
  {
   "cell_type": "code",
   "execution_count": null,
   "id": "8d24c283-455e-441d-9a0a-6c718520a2e1",
   "metadata": {},
   "outputs": [],
   "source": []
  }
 ],
 "metadata": {
  "kernelspec": {
   "display_name": "Python 3",
   "language": "python",
   "name": "python3"
  },
  "language_info": {
   "codemirror_mode": {
    "name": "ipython",
    "version": 3
   },
   "file_extension": ".py",
   "mimetype": "text/x-python",
   "name": "python",
   "nbconvert_exporter": "python",
   "pygments_lexer": "ipython3",
   "version": "3.8.8"
  }
 },
 "nbformat": 4,
 "nbformat_minor": 5
}
